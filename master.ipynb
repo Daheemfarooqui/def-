{
  "metadata": {
    "kernelspec": {
      "name": "python",
      "display_name": "Python (Pyodide)",
      "language": "python"
    },
    "language_info": {
      "codemirror_mode": {
        "name": "python",
        "version": 3
      },
      "file_extension": ".py",
      "mimetype": "text/x-python",
      "name": "python",
      "nbconvert_exporter": "python",
      "pygments_lexer": "ipython3",
      "version": "3.8"
    }
  },
  "nbformat_minor": 4,
  "nbformat": 4,
  "cells": [
    {
      "cell_type": "markdown",
      "source": "## Q1. Which keyword is used to create a function? Create a function to return a list of odd numbers in the range of 1 to 25.",
      "metadata": {}
    },
    {
      "cell_type": "code",
      "source": "# The def keyword is used to create a function in Python.\ndef get_odd_numbers():\n    odd_numbers = [num for num in range(1, 26) if num % 2 != 0]\n    return odd_numbers\n\n\nodd_numbers_list = get_odd_numbers()\nprint(\"List of odd numbers:\", odd_numbers_list)\n",
      "metadata": {
        "trusted": true
      },
      "outputs": [
        {
          "name": "stdout",
          "text": "List of odd numbers: [1, 3, 5, 7, 9, 11, 13, 15, 17, 19, 21, 23, 25]\n",
          "output_type": "stream"
        }
      ],
      "execution_count": 1
    },
    {
      "cell_type": "markdown",
      "source": "## Q2. Why *args and **kwargs are used in some functions? Create a function each for *args and **kwargs to demonstrate their use.",
      "metadata": {}
    },
    {
      "cell_type": "code",
      "source": "# *args and **kwargs are used to pass a variable number of arguments to a function. \n#*args is used to pass a variable number of non-keyword arguments, and **kwargs is used to pass a variable number of keyword arguments.\n\ndef args_example(*args):\n    for arg in args:\n        print(\"Argument:\", arg)\n\ndef kwargs_example(**kwargs):\n    for key, value in kwargs.items():\n        print(\"Key:\", key, \"Value:\", value)\n\nargs_example(1, 2, 3, \"hello\")\n\nkwargs_example(name=\"Daheem\", age=21, city=\"allahabad\")\n",
      "metadata": {
        "trusted": true
      },
      "outputs": [
        {
          "name": "stdout",
          "text": "Argument: 1\nArgument: 2\nArgument: 3\nArgument: hello\nKey: name Value: Daheem\nKey: age Value: 21\nKey: city Value: allahabad\n",
          "output_type": "stream"
        }
      ],
      "execution_count": 3
    },
    {
      "cell_type": "markdown",
      "source": "## Q3. What is an iterator in python? Name the method used to initialise the iterator object and the method used for iteration. Use these methods to print the first five elements of the given list [2, 4, 6, 8, 10, 12, 14, 16, 18, 20].",
      "metadata": {}
    },
    {
      "cell_type": "code",
      "source": "#An iterator in Python is an object that represents a stream of data. The iter() method is used to \n#initialize the iterator object, and the next() method is used for iteration.\n\nmy_list = [2, 4, 6, 8, 10, 12, 14, 16, 18, 20]\nmy_iterator = iter(my_list)\n\nfor _ in range(5):\n    print(next(my_iterator))\n",
      "metadata": {
        "trusted": true
      },
      "outputs": [
        {
          "name": "stdout",
          "text": "2\n4\n6\n8\n10\n",
          "output_type": "stream"
        }
      ],
      "execution_count": 6
    },
    {
      "cell_type": "markdown",
      "source": "## Q4. What is a generator function in python? Why is the yield keyword used? Give an example of a generator function.",
      "metadata": {}
    },
    {
      "cell_type": "code",
      "source": "#A generator function in Python is a function that returns an iterator object using the yield keyword. \n#It allows you to generate a sequence of values lazily, one at a time, instead of storing them all in memory at once.\n\ndef generate_numbers():\n    for num in range(1, 11):\n        yield num\n\nnumber_generator = generate_numbers()\nfor num in number_generator:\n    print(num)\n",
      "metadata": {
        "trusted": true
      },
      "outputs": [
        {
          "name": "stdout",
          "text": "1\n2\n3\n4\n5\n6\n7\n8\n9\n10\n",
          "output_type": "stream"
        }
      ],
      "execution_count": 8
    },
    {
      "cell_type": "markdown",
      "source": "## Q5. Create a generator function for prime numbers less than 1000. Use the next() method to print the first 20 prime numbers.",
      "metadata": {}
    },
    {
      "cell_type": "code",
      "source": "def is_prime(num):\n    if num <= 1:\n        return False\n    for i in range(2, int(num**0.5) + 1):\n        if num % i == 0:\n            return False\n    return True\n\ndef generate_primes():\n    num = 2\n    count = 0\n    while count < 20:\n        if is_prime(num):\n            yield num\n            count += 1\n        num += 1\n\n\nprime_generator = generate_primes()\nfor _ in range(20):\n    print(next(prime_generator))\n",
      "metadata": {
        "trusted": true
      },
      "outputs": [
        {
          "name": "stdout",
          "text": "2\n3\n5\n7\n11\n13\n17\n19\n23\n29\n31\n37\n41\n43\n47\n53\n59\n61\n67\n71\n",
          "output_type": "stream"
        }
      ],
      "execution_count": 9
    },
    {
      "cell_type": "markdown",
      "source": "## Q6. Write a Python program to print the first 10 Fibonacci numbers using a while loop.",
      "metadata": {}
    },
    {
      "cell_type": "code",
      "source": "def fibonacci(n):\n    fib_list = [0, 1]\n    while len(fib_list) < n:\n        fib_list.append(fib_list[-1] + fib_list[-2])\n    return fib_list\n\nfib_sequence = fibonacci(10)\nprint(\"First 10 Fibonacci numbers:\", fib_sequence)\n",
      "metadata": {
        "trusted": true
      },
      "outputs": [
        {
          "name": "stdout",
          "text": "First 10 Fibonacci numbers: [0, 1, 1, 2, 3, 5, 8, 13, 21, 34]\n",
          "output_type": "stream"
        }
      ],
      "execution_count": 10
    },
    {
      "cell_type": "code",
      "source": "",
      "metadata": {
        "trusted": true
      },
      "outputs": [],
      "execution_count": null
    }
  ]
}